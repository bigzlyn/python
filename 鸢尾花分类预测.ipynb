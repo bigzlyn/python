{
 "cells": [
  {
   "cell_type": "code",
   "execution_count": 7,
   "id": "b6f4f9fd",
   "metadata": {},
   "outputs": [],
   "source": [
    "from sklearn import datasets\n",
    "# 将数据分为测试集和训练集\n",
    "from sklearn.model_selection import train_test_split\n",
    "# 利用邻近点方式训练数据\n",
    "from sklearn.neighbors import KNeighborsClassifier"
   ]
  },
  {
   "cell_type": "code",
   "execution_count": 2,
   "id": "88aefa74",
   "metadata": {},
   "outputs": [],
   "source": [
    "# 引入数据,本次导入鸢尾花数据，iris数据包含4个特征变量\n",
    "iris = datasets.load_iris()\n",
    "# 特征变量\n",
    "iris_X = iris.data\n",
    "# print('数据量', len(iris_X))\n",
    "# 目标值\n",
    "iris_y = iris.target\n",
    "# print('鸢尾花的目标值', iris_y)"
   ]
  },
  {
   "cell_type": "code",
   "execution_count": 3,
   "id": "b8d745d4",
   "metadata": {},
   "outputs": [],
   "source": [
    "# 利用train_test_split进行训练集和测试机进行分开，test_size占30%\n",
    "X_train, X_test, y_train, y_test = train_test_split(iris_X, iris_y, test_size=0.3)"
   ]
  },
  {
   "cell_type": "code",
   "execution_count": 4,
   "id": "5d662840",
   "metadata": {},
   "outputs": [
    {
     "data": {
      "text/plain": [
       "KNeighborsClassifier()"
      ]
     },
     "execution_count": 4,
     "metadata": {},
     "output_type": "execute_result"
    }
   ],
   "source": [
    "# 训练数据\n",
    "# 引入训练方法\n",
    "knn = KNeighborsClassifier()\n",
    "# 进行填充测试数据进行训练\n",
    "knn.fit(X_train, y_train)"
   ]
  },
  {
   "cell_type": "code",
   "execution_count": 5,
   "id": "ff443441",
   "metadata": {},
   "outputs": [
    {
     "name": "stdout",
     "output_type": "stream",
     "text": [
      "预测得分为：0.9555555555555556\n"
     ]
    }
   ],
   "source": [
    "score = knn.score(X_test, y_test)\n",
    "print(\"预测得分为：%s\" % score)"
   ]
  },
  {
   "cell_type": "code",
   "execution_count": 6,
   "id": "a211085d",
   "metadata": {},
   "outputs": [
    {
     "name": "stdout",
     "output_type": "stream",
     "text": [
      "[2 1 0 1 2 1 0 0 0 0 2 1 0 1 0 1 2 0 0 2 1 1 2 0 0 2 2 2 2 0 1 0 1 2 0 0 1\n",
      " 1 2 0 0 2 2 2 1]\n",
      "[2 1 0 1 2 1 0 0 0 0 2 1 0 1 0 1 2 0 0 2 1 2 2 0 0 2 2 2 1 0 1 0 1 2 0 0 1\n",
      " 1 2 0 0 2 2 2 1]\n"
     ]
    }
   ],
   "source": [
    "# 预测数据，预测特征值\n",
    "print(knn.predict(X_test))\n",
    "# 打印真实特征值\n",
    "print(y_test)"
   ]
  },
  {
   "cell_type": "code",
   "execution_count": null,
   "id": "79fa970d",
   "metadata": {},
   "outputs": [],
   "source": []
  },
  {
   "cell_type": "code",
   "execution_count": null,
   "id": "6cbf0d05",
   "metadata": {},
   "outputs": [],
   "source": []
  },
  {
   "cell_type": "code",
   "execution_count": null,
   "id": "e22adf94",
   "metadata": {},
   "outputs": [],
   "source": []
  },
  {
   "cell_type": "code",
   "execution_count": null,
   "id": "6ef1149d",
   "metadata": {},
   "outputs": [],
   "source": []
  },
  {
   "cell_type": "code",
   "execution_count": null,
   "id": "cfbcab5e",
   "metadata": {},
   "outputs": [],
   "source": []
  },
  {
   "cell_type": "code",
   "execution_count": null,
   "id": "1758b62d",
   "metadata": {},
   "outputs": [],
   "source": []
  }
 ],
 "metadata": {
  "kernelspec": {
   "display_name": "Python 3",
   "language": "python",
   "name": "python3"
  },
  "language_info": {
   "codemirror_mode": {
    "name": "ipython",
    "version": 3
   },
   "file_extension": ".py",
   "mimetype": "text/x-python",
   "name": "python",
   "nbconvert_exporter": "python",
   "pygments_lexer": "ipython3",
   "version": "3.8.8"
  }
 },
 "nbformat": 4,
 "nbformat_minor": 5
}
