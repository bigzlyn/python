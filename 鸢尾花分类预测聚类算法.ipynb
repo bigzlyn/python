{
 "cells": [
  {
   "cell_type": "code",
   "execution_count": 1,
   "id": "74ab679e",
   "metadata": {},
   "outputs": [],
   "source": [
    "from sklearn import datasets\n",
    "# 将数据分为测试集和训练集\n",
    "from sklearn.model_selection import train_test_split\n",
    "# 利用邻近点方式训练数据\n",
    "from sklearn.neighbors import KNeighborsClassifier"
   ]
  },
  {
   "cell_type": "code",
   "execution_count": 2,
   "id": "88aefa74",
   "metadata": {},
   "outputs": [],
   "source": [
    "# 引入数据,本次导入鸢尾花数据，iris数据包含4个特征变量\n",
    "iris = datasets.load_iris()\n",
    "# 特征变量\n",
    "iris_X = iris.data\n",
    "# print('数据量', len(iris_X))\n",
    "# 目标值\n",
    "iris_y = iris.target\n",
    "# print('鸢尾花的目标值', iris_y)"
   ]
  },
  {
   "cell_type": "code",
   "execution_count": 3,
   "id": "b8d745d4",
   "metadata": {},
   "outputs": [],
   "source": [
    "# 利用train_test_split进行训练集和测试机进行分开，test_size占30%\n",
    "X_train, X_test, y_train, y_test = train_test_split(iris_X, iris_y, test_size=0.3)"
   ]
  },
  {
   "cell_type": "code",
   "execution_count": 4,
   "id": "5d662840",
   "metadata": {},
   "outputs": [
    {
     "ename": "NameError",
     "evalue": "name 'KNeighborsClassifier' is not defined",
     "output_type": "error",
     "traceback": [
      "\u001B[0;31m---------------------------------------------------------------------------\u001B[0m",
      "\u001B[0;31mNameError\u001B[0m                                 Traceback (most recent call last)",
      "\u001B[0;32m<ipython-input-4-67fd9e06b8f3>\u001B[0m in \u001B[0;36m<module>\u001B[0;34m\u001B[0m\n\u001B[1;32m      1\u001B[0m \u001B[0;31m# 训练数据\u001B[0m\u001B[0;34m\u001B[0m\u001B[0;34m\u001B[0m\u001B[0;34m\u001B[0m\u001B[0m\n\u001B[1;32m      2\u001B[0m \u001B[0;31m# 引入训练方法\u001B[0m\u001B[0;34m\u001B[0m\u001B[0;34m\u001B[0m\u001B[0;34m\u001B[0m\u001B[0m\n\u001B[0;32m----> 3\u001B[0;31m \u001B[0mknn\u001B[0m \u001B[0;34m=\u001B[0m \u001B[0mKNeighborsClassifier\u001B[0m\u001B[0;34m(\u001B[0m\u001B[0;34m)\u001B[0m\u001B[0;34m\u001B[0m\u001B[0;34m\u001B[0m\u001B[0m\n\u001B[0m\u001B[1;32m      4\u001B[0m \u001B[0;31m# 进行填充测试数据进行训练\u001B[0m\u001B[0;34m\u001B[0m\u001B[0;34m\u001B[0m\u001B[0;34m\u001B[0m\u001B[0m\n\u001B[1;32m      5\u001B[0m \u001B[0mknn\u001B[0m\u001B[0;34m.\u001B[0m\u001B[0mfit\u001B[0m\u001B[0;34m(\u001B[0m\u001B[0mX_train\u001B[0m\u001B[0;34m,\u001B[0m \u001B[0my_train\u001B[0m\u001B[0;34m)\u001B[0m\u001B[0;34m\u001B[0m\u001B[0;34m\u001B[0m\u001B[0m\n",
      "\u001B[0;31mNameError\u001B[0m: name 'KNeighborsClassifier' is not defined"
     ]
    }
   ],
   "source": [
    "# 训练数据\n",
    "# 引入训练方法\n",
    "knn = KNeighborsClassifier()\n",
    "# 进行填充测试数据进行训练\n",
    "knn.fit(X_train, y_train)"
   ]
  },
  {
   "cell_type": "code",
   "execution_count": 44,
   "id": "ff443441",
   "metadata": {},
   "outputs": [
    {
     "name": "stdout",
     "output_type": "stream",
     "text": [
      "预测得分为：1.0\n"
     ]
    }
   ],
   "source": [
    "score = knn.score(X_test, y_test)\n",
    "print(\"预测得分为：%s\" % score)"
   ]
  },
  {
   "cell_type": "code",
   "execution_count": 45,
   "id": "a211085d",
   "metadata": {
    "pycharm": {
     "name": "#%%\n"
    }
   },
   "outputs": [
    {
     "name": "stdout",
     "output_type": "stream",
     "text": [
      "[2 0 2 0 1 2 2 1 2 2 1 1 2 1 0 1 2 1 0 0 2 2 2 2 1 1 2 1 2 1 0 1 0 1 0 2 0\n",
      " 0 0 1 0 0 1 1 0]\n",
      "[2 0 2 0 1 2 2 1 2 2 1 1 2 1 0 1 2 1 0 0 2 2 2 2 1 1 2 1 2 1 0 1 0 1 0 2 0\n",
      " 0 0 1 0 0 1 1 0]\n"
     ]
    }
   ],
   "source": [
    "# 预测数据，预测特征值\n",
    "print(knn.predict(X_test))\n",
    "# 打印真实特征值\n",
    "print(y_test)\n",
    "\n"
   ]
  }
 ],
 "metadata": {
  "kernelspec": {
   "name": "pycharm-1ec0b0dd",
   "language": "python",
   "display_name": "PyCharm (pythonProject)"
  },
  "language_info": {
   "codemirror_mode": {
    "name": "ipython",
    "version": 3
   },
   "file_extension": ".py",
   "mimetype": "text/x-python",
   "name": "python",
   "nbconvert_exporter": "python",
   "pygments_lexer": "ipython3",
   "version": "3.8.8"
  }
 },
 "nbformat": 4,
 "nbformat_minor": 5
}